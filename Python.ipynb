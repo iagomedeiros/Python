{
  "nbformat": 4,
  "nbformat_minor": 0,
  "metadata": {
    "colab": {
      "name": "Python.ipynb",
      "provenance": [],
      "authorship_tag": "ABX9TyM+VEDWwvv/mP8/I3ubStyW",
      "include_colab_link": true
    },
    "kernelspec": {
      "name": "python3",
      "display_name": "Python 3"
    },
    "language_info": {
      "name": "python"
    }
  },
  "cells": [
    {
      "cell_type": "markdown",
      "metadata": {
        "id": "view-in-github",
        "colab_type": "text"
      },
      "source": [
        "<a href=\"https://colab.research.google.com/github/iagomedeiros/Python/blob/main/Python.ipynb\" target=\"_parent\"><img src=\"https://colab.research.google.com/assets/colab-badge.svg\" alt=\"Open In Colab\"/></a>"
      ]
    },
    {
      "cell_type": "markdown",
      "source": [
        "Variáveis e objetos"
      ],
      "metadata": {
        "id": "kSvBUiZxuYwn"
      }
    },
    {
      "cell_type": "code",
      "execution_count": 1,
      "metadata": {
        "colab": {
          "base_uri": "https://localhost:8080/"
        },
        "id": "Vr7Khm3AnQ1M",
        "outputId": "4b88d4eb-d116-492f-847e-03f47c0302ed"
      },
      "outputs": [
        {
          "output_type": "stream",
          "name": "stdout",
          "text": [
            "1\n",
            "3.13\n",
            "Python\n",
            "False\n"
          ]
        }
      ],
      "source": [
        "#Cria variável do tipo inteiro\n",
        "x = 1\n",
        "print(x)\n",
        "#Cria variável do tipo float\n",
        "y = 3.13\n",
        "print(y)\n",
        "#Cria variável do tipo string\n",
        "m = \"Python\"\n",
        "m = 'Python'\n",
        "print(m)\n",
        "#Cria variável do tipo lógica\n",
        "w = True  \n",
        "y = False\n",
        "print(y)"
      ]
    },
    {
      "cell_type": "code",
      "source": [
        "#calculadora\n",
        "x = 10\n",
        "y = 20\n",
        "z = 100\n",
        "w = (x + y) * z / 100\n",
        "print(w)"
      ],
      "metadata": {
        "colab": {
          "base_uri": "https://localhost:8080/"
        },
        "id": "CABLvL4Ys-Ht",
        "outputId": "866cc19a-e8c0-4cda-d216-70a040be9c92"
      },
      "execution_count": 2,
      "outputs": [
        {
          "output_type": "stream",
          "name": "stdout",
          "text": [
            "30.0\n"
          ]
        }
      ]
    },
    {
      "cell_type": "code",
      "source": [
        "#exibir texto no console\n",
        "print(\"Este texto será impresso no console\")\n",
        "print(x)\n",
        "print(\"Texto e duas variáveis: \", x ,\", \", z)"
      ],
      "metadata": {
        "colab": {
          "base_uri": "https://localhost:8080/"
        },
        "id": "ZycEQWWYs-Op",
        "outputId": "7b90eee1-b1fe-4a0e-a036-d546b638de05"
      },
      "execution_count": 3,
      "outputs": [
        {
          "output_type": "stream",
          "name": "stdout",
          "text": [
            "Este texto será impresso no console\n",
            "10\n",
            "Texto e duas variáveis:  10 ,  100\n"
          ]
        }
      ]
    },
    {
      "cell_type": "code",
      "source": [
        "#verificar tipo\n",
        "print(type(x))\n",
        "print(type(m))"
      ],
      "metadata": {
        "colab": {
          "base_uri": "https://localhost:8080/"
        },
        "id": "7AgvQgSOs-Vt",
        "outputId": "9fbe2eaa-0286-4011-cff6-c23fb46c8f98"
      },
      "execution_count": 4,
      "outputs": [
        {
          "output_type": "stream",
          "name": "stdout",
          "text": [
            "<class 'int'>\n",
            "<class 'str'>\n"
          ]
        }
      ]
    },
    {
      "cell_type": "code",
      "source": [
        "#entrada de dados\n",
        "print(\"Informe o valor: \")\n",
        "i = input()\n",
        "#mostra tipo string\n",
        "print(type(i))"
      ],
      "metadata": {
        "colab": {
          "base_uri": "https://localhost:8080/"
        },
        "id": "rH9_jBj4s-dM",
        "outputId": "7d304b9b-4236-4669-b6f5-d95f2981d70b"
      },
      "execution_count": 5,
      "outputs": [
        {
          "output_type": "stream",
          "name": "stdout",
          "text": [
            "Informe o valor: \n",
            "10\n",
            "<class 'str'>\n"
          ]
        }
      ]
    },
    {
      "cell_type": "code",
      "source": [
        "#entrada de valor com msg separada e junto\n",
        "print(\"Informe o valor: \")\n",
        "i = input()\n",
        "# ou\n",
        "i = input(\"Informe o valor: \")"
      ],
      "metadata": {
        "colab": {
          "base_uri": "https://localhost:8080/"
        },
        "id": "egAs8m_ss-jw",
        "outputId": "a6407de8-8afa-49be-fc7f-3439829bd044"
      },
      "execution_count": 6,
      "outputs": [
        {
          "name": "stdout",
          "output_type": "stream",
          "text": [
            "Informe o valor: \n",
            "a\n",
            "Informe o valor: 10\n"
          ]
        }
      ]
    },
    {
      "cell_type": "code",
      "source": [
        "#conversão de valores\n",
        "#para inteiro\n",
        "var = input(\"Informe o valor: \")\n",
        "print(type(var))\n",
        "var = int(var)\n",
        "print(type(var))\n"
      ],
      "metadata": {
        "colab": {
          "base_uri": "https://localhost:8080/"
        },
        "id": "kRwrq_8Cs-q2",
        "outputId": "5bd5e421-236b-4919-ed3a-0a5c2099ecb2"
      },
      "execution_count": 7,
      "outputs": [
        {
          "output_type": "stream",
          "name": "stdout",
          "text": [
            "Informe o valor: 100\n",
            "<class 'str'>\n",
            "<class 'int'>\n"
          ]
        }
      ]
    },
    {
      "cell_type": "code",
      "source": [
        "#para float\n",
        "var = input(\"Informe o valor: \")\n",
        "print(type(var))\n",
        "var = float(var)\n",
        "print(type(var))"
      ],
      "metadata": {
        "colab": {
          "base_uri": "https://localhost:8080/"
        },
        "id": "68wlFtTUs-xS",
        "outputId": "76c55400-3f10-4ee6-94d1-cd64499a9f57"
      },
      "execution_count": 8,
      "outputs": [
        {
          "output_type": "stream",
          "name": "stdout",
          "text": [
            "Informe o valor: 10\n",
            "<class 'str'>\n",
            "<class 'float'>\n"
          ]
        }
      ]
    },
    {
      "cell_type": "code",
      "source": [
        "#dicionários: estrutura chave/valor\n",
        "Notas = {'João': 6.0, 'Maria': 8.0, 'Pedro': 6.5}\n",
        "print(Notas)"
      ],
      "metadata": {
        "colab": {
          "base_uri": "https://localhost:8080/"
        },
        "id": "FsHE3y5StYpE",
        "outputId": "92738706-5689-4420-87ef-43b0e2404a45"
      },
      "execution_count": 9,
      "outputs": [
        {
          "output_type": "stream",
          "name": "stdout",
          "text": [
            "{'João': 6.0, 'Maria': 8.0, 'Pedro': 6.5}\n"
          ]
        }
      ]
    },
    {
      "cell_type": "code",
      "source": [
        "print(Notas['João'])"
      ],
      "metadata": {
        "colab": {
          "base_uri": "https://localhost:8080/"
        },
        "id": "SpG5vOljtY3Z",
        "outputId": "94567b9f-0deb-460f-862a-2dfecd2ccaf7"
      },
      "execution_count": 10,
      "outputs": [
        {
          "output_type": "stream",
          "name": "stdout",
          "text": [
            "6.0\n"
          ]
        }
      ]
    },
    {
      "cell_type": "code",
      "source": [
        "#Todasd as chaves\n",
        "Notas.keys()"
      ],
      "metadata": {
        "colab": {
          "base_uri": "https://localhost:8080/"
        },
        "id": "79xr_2pZtY_U",
        "outputId": "5b2c0928-a52c-466c-ba5c-a5c0bf5cd207"
      },
      "execution_count": 11,
      "outputs": [
        {
          "output_type": "execute_result",
          "data": {
            "text/plain": [
              "dict_keys(['João', 'Maria', 'Pedro'])"
            ]
          },
          "metadata": {},
          "execution_count": 11
        }
      ]
    },
    {
      "cell_type": "code",
      "source": [
        "#todos os valores\n",
        "Notas.values()"
      ],
      "metadata": {
        "colab": {
          "base_uri": "https://localhost:8080/"
        },
        "id": "6TukHkHCtZF9",
        "outputId": "210966d7-fa55-443b-9f89-565ea6d39a30"
      },
      "execution_count": 12,
      "outputs": [
        {
          "output_type": "execute_result",
          "data": {
            "text/plain": [
              "dict_values([6.0, 8.0, 6.5])"
            ]
          },
          "metadata": {},
          "execution_count": 12
        }
      ]
    },
    {
      "cell_type": "code",
      "source": [
        "#Testa logicamente a existência\n",
        "print('João' in Notas)\n",
        "print('Fernando' in Notas)"
      ],
      "metadata": {
        "colab": {
          "base_uri": "https://localhost:8080/"
        },
        "id": "x35hj6F7tZLY",
        "outputId": "8db1737f-f108-430f-f994-299446232380"
      },
      "execution_count": 13,
      "outputs": [
        {
          "output_type": "stream",
          "name": "stdout",
          "text": [
            "True\n",
            "False\n"
          ]
        }
      ]
    },
    {
      "cell_type": "code",
      "source": [
        "#apaga um elemento\n",
        "del Notas['João']\n",
        "print(Notas)"
      ],
      "metadata": {
        "colab": {
          "base_uri": "https://localhost:8080/"
        },
        "id": "bE6ZP2EktZN7",
        "outputId": "4fe2a038-89ee-44a3-9cd3-5d0d61fd9045"
      },
      "execution_count": 14,
      "outputs": [
        {
          "output_type": "stream",
          "name": "stdout",
          "text": [
            "{'Maria': 8.0, 'Pedro': 6.5}\n"
          ]
        }
      ]
    },
    {
      "cell_type": "code",
      "source": [
        "#inclui um elemento\n",
        "Notas['Ana'] = 9\n",
        "print(Notas)"
      ],
      "metadata": {
        "colab": {
          "base_uri": "https://localhost:8080/"
        },
        "id": "NaLXwL3DtZQo",
        "outputId": "07896cc9-b23c-435b-8c25-3d31783a0899"
      },
      "execution_count": 15,
      "outputs": [
        {
          "output_type": "stream",
          "name": "stdout",
          "text": [
            "{'Maria': 8.0, 'Pedro': 6.5, 'Ana': 9}\n"
          ]
        }
      ]
    },
    {
      "cell_type": "code",
      "source": [
        "#busca um valor, se não encontrar mostra segundo parametro\n",
        "Notas.get('Geraldo',\"Não encontrado!\")"
      ],
      "metadata": {
        "colab": {
          "base_uri": "https://localhost:8080/",
          "height": 35
        },
        "id": "dllz02fmtZTD",
        "outputId": "6ac08cfe-4af6-4f43-cb66-a8c6ebdbe6c8"
      },
      "execution_count": 16,
      "outputs": [
        {
          "output_type": "execute_result",
          "data": {
            "text/plain": [
              "'Não encontrado!'"
            ],
            "application/vnd.google.colaboratory.intrinsic+json": {
              "type": "string"
            }
          },
          "metadata": {},
          "execution_count": 16
        }
      ]
    },
    {
      "cell_type": "code",
      "source": [
        "#sets são conjuntos não ordenados de elementos não repetidos\n",
        "bigdata = {'Spark', 'Hive', \"Sqoop\"}\n",
        "print(bigdata)"
      ],
      "metadata": {
        "colab": {
          "base_uri": "https://localhost:8080/"
        },
        "id": "zxyl6yqktZVS",
        "outputId": "f2e5c400-0e8c-47b4-8438-57aca38a6e44"
      },
      "execution_count": 17,
      "outputs": [
        {
          "output_type": "stream",
          "name": "stdout",
          "text": [
            "{'Hive', 'Sqoop', 'Spark'}\n"
          ]
        }
      ]
    },
    {
      "cell_type": "code",
      "source": [
        "#verifica existência\n",
        "print('Spark' in bigdata)"
      ],
      "metadata": {
        "colab": {
          "base_uri": "https://localhost:8080/"
        },
        "id": "Pp0EL2_atZXt",
        "outputId": "cdfc7584-bb00-4c93-964f-9d4f6a1f41e9"
      },
      "execution_count": 18,
      "outputs": [
        {
          "output_type": "stream",
          "name": "stdout",
          "text": [
            "True\n"
          ]
        }
      ]
    },
    {
      "cell_type": "code",
      "source": [
        "#adiciona elemento\n",
        "bigdata.add('Hadoop')\n",
        "bigdata"
      ],
      "metadata": {
        "colab": {
          "base_uri": "https://localhost:8080/"
        },
        "id": "Gya_DoTPtvaG",
        "outputId": "06152167-9634-424d-8dc5-e940fb6617a6"
      },
      "execution_count": 19,
      "outputs": [
        {
          "output_type": "execute_result",
          "data": {
            "text/plain": [
              "{'Hadoop', 'Hive', 'Spark', 'Sqoop'}"
            ]
          },
          "metadata": {},
          "execution_count": 19
        }
      ]
    },
    {
      "cell_type": "code",
      "source": [
        "#número de elementos\n",
        "print(len(bigdata))"
      ],
      "metadata": {
        "colab": {
          "base_uri": "https://localhost:8080/"
        },
        "id": "W7Y31LFWtvh0",
        "outputId": "9f06221d-eae2-4efe-b65c-039b61a9e022"
      },
      "execution_count": 20,
      "outputs": [
        {
          "output_type": "stream",
          "name": "stdout",
          "text": [
            "4\n"
          ]
        }
      ]
    },
    {
      "cell_type": "code",
      "source": [
        "bigdata.add(\"Spark\")\n",
        "bigdata"
      ],
      "metadata": {
        "colab": {
          "base_uri": "https://localhost:8080/"
        },
        "id": "oO6PribctvpK",
        "outputId": "e9ebc87f-ddca-4492-ecce-7d4b0c735daa"
      },
      "execution_count": 21,
      "outputs": [
        {
          "output_type": "execute_result",
          "data": {
            "text/plain": [
              "{'Hadoop', 'Hive', 'Spark', 'Sqoop'}"
            ]
          },
          "metadata": {},
          "execution_count": 21
        }
      ]
    },
    {
      "cell_type": "code",
      "source": [
        "#tuplas são listas que não podem ser alteradas\n",
        "#listas usam [], tuplas usam ()\n",
        "tupla = (1,2,3,4,5,6,7)\n",
        "tupla"
      ],
      "metadata": {
        "colab": {
          "base_uri": "https://localhost:8080/"
        },
        "id": "e-Qkq11ct2bS",
        "outputId": "8245ad2b-f914-499e-bcf4-79427490bdca"
      },
      "execution_count": 22,
      "outputs": [
        {
          "output_type": "execute_result",
          "data": {
            "text/plain": [
              "(1, 2, 3, 4, 5, 6, 7)"
            ]
          },
          "metadata": {},
          "execution_count": 22
        }
      ]
    },
    {
      "cell_type": "code",
      "source": [
        "tupla[4]"
      ],
      "metadata": {
        "colab": {
          "base_uri": "https://localhost:8080/"
        },
        "id": "bXjXwzqHt2yS",
        "outputId": "ea624f4a-987e-4416-8fcd-53cb401c7c81"
      },
      "execution_count": 23,
      "outputs": [
        {
          "output_type": "execute_result",
          "data": {
            "text/plain": [
              "5"
            ]
          },
          "metadata": {},
          "execution_count": 23
        }
      ]
    },
    {
      "cell_type": "code",
      "source": [
        "#dicionários em que cada posição recebe uma tupla\n",
        "dic2 = {(0, 1): 0, (1, 2): 1, (2, 3): 2, (3, 4): 3, (4, 5): 4,(5, 6): 5, (6, 7): 6, (7, 8): 7, (8, 9): 8, (9, 10): 9}\n",
        "dic2"
      ],
      "metadata": {
        "colab": {
          "base_uri": "https://localhost:8080/"
        },
        "id": "O1h6-xxNt206",
        "outputId": "da4aec3b-e346-44f3-e859-0aed1cc75465"
      },
      "execution_count": 24,
      "outputs": [
        {
          "output_type": "execute_result",
          "data": {
            "text/plain": [
              "{(0, 1): 0,\n",
              " (1, 2): 1,\n",
              " (2, 3): 2,\n",
              " (3, 4): 3,\n",
              " (4, 5): 4,\n",
              " (5, 6): 5,\n",
              " (6, 7): 6,\n",
              " (7, 8): 7,\n",
              " (8, 9): 8,\n",
              " (9, 10): 9}"
            ]
          },
          "metadata": {},
          "execution_count": 24
        }
      ]
    },
    {
      "cell_type": "code",
      "source": [
        "print(type(Notas))\n",
        "print(type(bigdata))\n",
        "print(type(tupla))"
      ],
      "metadata": {
        "colab": {
          "base_uri": "https://localhost:8080/"
        },
        "id": "3jyZ2KJ9t23W",
        "outputId": "b041a05e-ef91-489b-f0a5-718d576ebdc5"
      },
      "execution_count": 25,
      "outputs": [
        {
          "output_type": "stream",
          "name": "stdout",
          "text": [
            "<class 'dict'>\n",
            "<class 'set'>\n",
            "<class 'tuple'>\n"
          ]
        }
      ]
    },
    {
      "cell_type": "markdown",
      "source": [
        "Estrutura de repetição"
      ],
      "metadata": {
        "id": "Sva3LOnAuDo6"
      }
    },
    {
      "cell_type": "code",
      "source": [
        "#exemplo com while\n",
        "count = 1\n",
        "while count <= 5:\n",
        "    print(count)\n",
        "    count += 1"
      ],
      "metadata": {
        "colab": {
          "base_uri": "https://localhost:8080/"
        },
        "id": "bDLGVP6guIkU",
        "outputId": "cc9902f4-731a-4672-b7f4-debb75739ef7"
      },
      "execution_count": 26,
      "outputs": [
        {
          "output_type": "stream",
          "name": "stdout",
          "text": [
            "1\n",
            "2\n",
            "3\n",
            "4\n",
            "5\n"
          ]
        }
      ]
    },
    {
      "cell_type": "code",
      "source": [
        "#for decrecente\n",
        "for n in range(10, 0,-1):\n",
        "    print(n)"
      ],
      "metadata": {
        "colab": {
          "base_uri": "https://localhost:8080/"
        },
        "id": "1DBA11m7uoXL",
        "outputId": "de6822f6-d83e-4cea-d806-c5ad7b9f9a14"
      },
      "execution_count": 27,
      "outputs": [
        {
          "output_type": "stream",
          "name": "stdout",
          "text": [
            "10\n",
            "9\n",
            "8\n",
            "7\n",
            "6\n",
            "5\n",
            "4\n",
            "3\n",
            "2\n",
            "1\n"
          ]
        }
      ]
    },
    {
      "cell_type": "code",
      "source": [
        "#exemplo com break\n",
        "#vai parar no 3 pois o break está antes do print\n",
        "for n in range(0, 10):\n",
        "    if n==4:\n",
        "        break\n",
        "    print(n)"
      ],
      "metadata": {
        "colab": {
          "base_uri": "https://localhost:8080/"
        },
        "id": "fGhVG2CKuoyS",
        "outputId": "717db488-5f1a-4fef-dc39-c350ac7244fb"
      },
      "execution_count": 28,
      "outputs": [
        {
          "output_type": "stream",
          "name": "stdout",
          "text": [
            "0\n",
            "1\n",
            "2\n",
            "3\n"
          ]
        }
      ]
    },
    {
      "cell_type": "code",
      "source": [
        "#exemplo com continue\n",
        "#vai pular o numero 4\n",
        "for n in range(0, 10):\n",
        "    if n==4:\n",
        "        continue\n",
        "    print(n)"
      ],
      "metadata": {
        "colab": {
          "base_uri": "https://localhost:8080/"
        },
        "id": "0Keu1AXzuo6N",
        "outputId": "90185a8c-b81c-491e-85f8-30fdebb9200c"
      },
      "execution_count": 29,
      "outputs": [
        {
          "output_type": "stream",
          "name": "stdout",
          "text": [
            "0\n",
            "1\n",
            "2\n",
            "3\n",
            "5\n",
            "6\n",
            "7\n",
            "8\n",
            "9\n"
          ]
        }
      ]
    },
    {
      "cell_type": "markdown",
      "source": [
        "Estruturas de decisão"
      ],
      "metadata": {
        "id": "Gospmey1uw4H"
      }
    },
    {
      "cell_type": "code",
      "source": [
        "nota = 7\n",
        "if nota >= 7:\n",
        "\tprint(\"Aprovado\")\n",
        "\tprint(\"Parabéns!\")\n",
        "else:\n",
        "\tprint(\"Reprovado\")"
      ],
      "metadata": {
        "colab": {
          "base_uri": "https://localhost:8080/"
        },
        "id": "pK96RNF1uy_8",
        "outputId": "f98de001-6164-4880-929d-b5abdb11366a"
      },
      "execution_count": 30,
      "outputs": [
        {
          "output_type": "stream",
          "name": "stdout",
          "text": [
            "Aprovado\n",
            "Parabéns!\n"
          ]
        }
      ]
    },
    {
      "cell_type": "code",
      "source": [
        "#só mudar o valor da variável\n",
        "nota = 5\n",
        "if nota >= 7:\n",
        "\tprint(\"Aprovado\")\n",
        "else:\n",
        "\tprint(\"Reprovado\")"
      ],
      "metadata": {
        "colab": {
          "base_uri": "https://localhost:8080/"
        },
        "id": "QDCAPqGwu4P_",
        "outputId": "6f5c74dd-5ad8-4375-e028-ef58d2082fa9"
      },
      "execution_count": 31,
      "outputs": [
        {
          "output_type": "stream",
          "name": "stdout",
          "text": [
            "Reprovado\n"
          ]
        }
      ]
    },
    {
      "cell_type": "code",
      "source": [
        "#Testar com 4,5 e 7\n",
        "nota = 7\n",
        "if nota <= 4:\n",
        "\tprint(\"Reprovado\")\n",
        "elif nota > 4 and nota <=6:\n",
        "\tprint(\"Exame\")\n",
        "else:\n",
        "\tprint(\"Aprovado\")\n"
      ],
      "metadata": {
        "colab": {
          "base_uri": "https://localhost:8080/"
        },
        "id": "adMxntgBu4Bf",
        "outputId": "c5fca478-35ae-4a9d-8337-711c05f4c591"
      },
      "execution_count": 32,
      "outputs": [
        {
          "output_type": "stream",
          "name": "stdout",
          "text": [
            "Aprovado\n"
          ]
        }
      ]
    }
  ]
}